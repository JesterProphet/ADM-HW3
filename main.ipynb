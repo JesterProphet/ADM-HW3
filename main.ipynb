{
 "cells": [
  {
   "cell_type": "code",
   "execution_count": 63,
   "id": "a1d6c3a6",
   "metadata": {},
   "outputs": [],
   "source": [
    "import os\n",
    "import pandas as pd\n",
    "import requests\n",
    "import subprocess\n",
    "import time\n",
    "\n",
    "from bs4 import BeautifulSoup\n",
    "\n",
    "# Define how many pages we want to parse\n",
    "pages = 400"
   ]
  },
  {
   "cell_type": "code",
   "execution_count": null,
   "id": "7c99e21c",
   "metadata": {},
   "outputs": [],
   "source": [
    "# Create a folder for each page\n",
    "for i in range(1, pages+1):\n",
    "    \n",
    "    # Project folder\n",
    "    folder = \"/Users/andre/Data Science/Semester_1/ADM/HW3/pages/\"\n",
    "    \n",
    "    # Fill the page number with leading zeros\n",
    "    os.makedirs(f\"{folder}page_{str(i).zfill(3)}\", exist_ok=True)"
   ]
  },
  {
   "cell_type": "code",
   "execution_count": null,
   "id": "570c8b20",
   "metadata": {},
   "outputs": [],
   "source": [
    "# Create and open text file\n",
    "file = open(\"links.txt\", \"a\")\n",
    "\n",
    "# This is the main url of the website\n",
    "main_url = \"https://www.findamasters.com\"\n",
    "\n",
    "# This is the core part of each page url\n",
    "page_url = \"https://www.findamasters.com/masters-degrees/msc-degrees/?PG=\"\n",
    "\n",
    "# Parse through every page and collect all urls for each Master program\n",
    "for i in range(1, pages+1):\n",
    "    \n",
    "    # Define url for current page\n",
    "    url = f\"{page_url}{i}\"\n",
    "    \n",
    "    # Make a request to the current page\n",
    "    response = requests.get(url)\n",
    "   \n",
    "    # Get HTML from the response\n",
    "    html = response.text\n",
    "   \n",
    "    # Parse the HTML\n",
    "    soup = BeautifulSoup(html, \"html.parser\")\n",
    "    \n",
    "    # Find all course links\n",
    "    links = soup.find_all(attrs={\"class\": \"courseLink text-dark\"})\n",
    "    \n",
    "    # Save all links in the text file\n",
    "    for link in links:\n",
    "    \n",
    "        # Save if link exists\n",
    "        if link[\"href\"]:\n",
    "            file.write(f\"{i}, {main_url}{link[\"href\"]}\\n\")\n",
    "        else:\n",
    "            print(link[\"href\"])\n",
    "\n",
    "# Close file\n",
    "file.close()"
   ]
  },
  {
   "cell_type": "code",
   "execution_count": null,
   "id": "d19f1d22",
   "metadata": {},
   "outputs": [],
   "source": [
    "#%%time\n",
    "#subprocess.run([\"python\", \"crawler.py\"])"
   ]
  },
  {
   "cell_type": "code",
   "execution_count": 109,
   "id": "4d9d1c7c",
   "metadata": {},
   "outputs": [
    {
     "name": "stdout",
     "output_type": "stream",
     "text": [
      "CPU times: user 16.1 ms, sys: 11.7 ms, total: 27.8 ms\n",
      "Wall time: 8min 14s\n"
     ]
    },
    {
     "data": {
      "text/plain": [
       "CompletedProcess(args=['python', 'parser.py'], returncode=0)"
      ]
     },
     "execution_count": 109,
     "metadata": {},
     "output_type": "execute_result"
    }
   ],
   "source": [
    "#%%time\n",
    "#subprocess.run([\"python\", \"parser.py\"])"
   ]
  },
  {
   "cell_type": "code",
   "execution_count": null,
   "id": "b8972379",
   "metadata": {},
   "outputs": [],
   "source": []
  }
 ],
 "metadata": {
  "kernelspec": {
   "display_name": "python3.11",
   "language": "python",
   "name": "python3.11"
  },
  "language_info": {
   "codemirror_mode": {
    "name": "ipython",
    "version": 3
   },
   "file_extension": ".py",
   "mimetype": "text/x-python",
   "name": "python",
   "nbconvert_exporter": "python",
   "pygments_lexer": "ipython3",
   "version": "3.11.4"
  }
 },
 "nbformat": 4,
 "nbformat_minor": 5
}
